{
 "cells": [
  {
   "cell_type": "markdown",
   "metadata": {},
   "source": [
    "## Application des transformations definies dans \"trasnfromers.py\""
   ]
  },
  {
   "cell_type": "code",
   "execution_count": 1,
   "metadata": {},
   "outputs": [],
   "source": [
    "from transformers import *"
   ]
  },
  {
   "cell_type": "code",
   "execution_count": 2,
   "metadata": {},
   "outputs": [],
   "source": [
    "import pandas as pd\n",
    "from abc import ABC, abstractmethod\n",
    "from sklearn.base import BaseEstimator, TransformerMixin\n",
    "from sklearn.preprocessing import StandardScaler\n",
    "from sklearn.pipeline import Pipeline\n",
    "from pathlib import Path\n",
    "from sklearn.model_selection import train_test_split\n"
   ]
  },
  {
   "cell_type": "code",
   "execution_count": null,
   "metadata": {},
   "outputs": [
    {
     "name": "stderr",
     "output_type": "stream",
     "text": [
      "C:\\Users\\yaeld\\AppData\\Local\\Temp\\ipykernel_34112\\1411631085.py:10: DtypeWarning: Columns (108,110,111,115,117,118,122,124,125) have mixed types. Specify dtype option on import or set low_memory=False.\n",
      "  df = pd.read_csv(path_src_dataset)\n"
     ]
    }
   ],
   "source": [
    "path_src_dataset = Path(\"./data/src/X_train_Hi5.csv\")\n",
    "\n",
    "out_folder_dataset = Path(\"./data/cleaned\")\n",
    "# Create the folder if it doesn't exist\n",
    "out_folder_dataset.mkdir(parents=True, exist_ok=True)\n",
    "\n",
    "out_folder_config = Path(\"./data/cleaned/pipelines\")\n",
    "out_folder_config.mkdir(parents=True, exist_ok=True)\n",
    "\n",
    "df = pd.read_csv(path_src_dataset)\n",
    "\n",
    "target = \"piezo_groundwater_level_category\"\n",
    "\n",
    "X = df.drop(columns=target)\n",
    "\n",
    "mapping = {'Very Low': 0, 'Low': 1, 'Average': 2, 'High': 3, 'Very High': 4}\n",
    "y = df[target].map(mapping)\n",
    "\n",
    "X_train, X_val, y_train, y_val = train_test_split(X, y, test_size=0.2, random_state=42)\n",
    "\n",
    "\n",
    "# Apply the transformers selected\n",
    "pipeline = Pipeline(steps=[\n",
    "(\"DropNaRate\", DropNaRate(0.7)),\n",
    "(\"CleanFeatures\", CleanFeatures(['\"insee_%_agri\",\"meteo_rain_height\"'])),\n",
    "(\"Altitude\", AltitudeTrans(columns=[\"piezo_station_altitude\", \"meteo_altitude\"])),\n",
    "('Dates',DateTransformer())\n",
    "# ... Add others transformations\n",
    "])\n",
    "\n",
    "\n",
    "print(\"Pipeline ongoing...\")\n",
    "processed_X_train = pipeline.fit_transform(X_train)\n",
    "processed_X_val = pipeline.transform(X_val)\n",
    "\n",
    "# Save the processed data to CSV\n",
    "processed_X_train.to_csv(out_folder_dataset / \"X_train.csv\", index=False)\n",
    "processed_X_val.to_csv(out_folder_dataset / \"X_val.csv\", index=False)\n",
    "y_train.to_csv(out_folder_dataset / \"y_train.csv\", index=False)\n",
    "y_val.to_csv(out_folder_dataset / \"y_val.csv\", index=False)\n",
    "\n",
    "print(\"Data converted to csv\")"
   ]
  }
 ],
 "metadata": {
  "kernelspec": {
   "display_name": "cfm",
   "language": "python",
   "name": "python3"
  },
  "language_info": {
   "codemirror_mode": {
    "name": "ipython",
    "version": 3
   },
   "file_extension": ".py",
   "mimetype": "text/x-python",
   "name": "python",
   "nbconvert_exporter": "python",
   "pygments_lexer": "ipython3",
   "version": "3.9.18"
  }
 },
 "nbformat": 4,
 "nbformat_minor": 2
}
