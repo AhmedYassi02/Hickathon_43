{
 "cells": [
  {
   "cell_type": "markdown",
   "metadata": {},
   "source": [
    "## Application des transformations definies dans \"trasnfromers.py\""
   ]
  },
  {
   "cell_type": "code",
   "execution_count": 1,
   "metadata": {},
   "outputs": [],
   "source": [
    "from transformers import *"
   ]
  },
  {
   "cell_type": "code",
   "execution_count": 2,
   "metadata": {},
   "outputs": [],
   "source": [
    "import pandas as pd\n",
    "from abc import ABC, abstractmethod\n",
    "from sklearn.base import BaseEstimator, TransformerMixin\n",
    "from sklearn.preprocessing import StandardScaler\n",
    "from sklearn.pipeline import Pipeline\n",
    "from pathlib import Path\n",
    "from sklearn.model_selection import train_test_split\n",
    "\n",
    "import pickle\n"
   ]
  },
  {
   "cell_type": "code",
   "execution_count": 3,
   "metadata": {},
   "outputs": [],
   "source": [
    "path_src_dataset = Path(\"./data/src/X_train_Hi5.csv\")\n",
    "\n",
    "out_folder_dataset = Path(\"./data/cleaned\")\n",
    "# Create the folder if it doesn't exist\n",
    "out_folder_dataset.mkdir(parents=True, exist_ok=True)\n",
    "\n",
    "out_folder_config = Path(\"./data/processed/pipelines\")\n",
    "out_folder_config.mkdir(parents=True, exist_ok=True)\n",
    "\n",
    "\n",
    "\n",
    "# Calculate the columns to keep\n",
    "#all_columns = pd.read_csv(path_src_dataset, nrows=0).columns.tolist()\n",
    "#columns_to_keep = [col for col in all_columns if col not in columns_to_drop] \n",
    "columns_to_keep = [\"insee_%_agri\",\"meteo_rain_height\",\"piezo_station_altitude\", \"meteo_altitude\",\"piezo_groundwater_level_category\",\"meteo_date\"]\n",
    "# Step 3: Load the CSV file with only the relevant columns\n",
    "df = pd.read_csv(path_src_dataset, usecols=columns_to_keep)\n",
    "\n",
    "target = \"piezo_groundwater_level_category\"\n",
    "\n",
    "X = df.drop(columns=target)\n",
    "\n",
    "mapping = {'Very Low': 0, 'Low': 1, 'Average': 2, 'High': 3, 'Very High': 4}\n",
    "y = df[target].map(mapping)\n",
    "\n",
    "X_train, X_val, y_train, y_val = train_test_split(X, y, test_size=0.2, random_state=42)\n",
    "\n",
    "\n",
    "# Apply the transformers selected\n",
    "processing_pipeline = Pipeline(steps=[\n",
    "    (\"DropNaRate\", DropNaRate(0.7)),\n",
    "    (\"CleanFeatures\", CleanFeatures([\"insee_%_agri\",\"meteo_rain_height\"])),\n",
    "    (\"Altitude\", AltitudeTrans(columns=[\"piezo_station_altitude\", \"meteo_altitude\"])),\n",
    "    ('Dates', DateTransformer())\n",
    "    # ... Add others transformations\n",
    "])"
   ]
  },
  {
   "cell_type": "code",
   "execution_count": null,
   "metadata": {},
   "outputs": [],
   "source": [
    "print(\"Pipeline ongoing...\")\n",
    "processed_X_train = processing_pipeline.fit_transform(X_train)\n",
    "processed_X_val = processing_pipeline.transform(X_val)"
   ]
  },
  {
   "cell_type": "code",
   "execution_count": null,
   "metadata": {},
   "outputs": [],
   "source": [
    "\n",
    "# Save the processed data to CSV\n",
    "processed_X_train.to_csv(out_folder_dataset / \"X_train.csv\", index=False)\n",
    "processed_X_val.to_csv(out_folder_dataset / \"X_val.csv\", index=False)\n",
    "y_train.to_csv(out_folder_dataset / \"y_train.csv\", index=False)\n",
    "y_val.to_csv(out_folder_dataset / \"y_val.csv\", index=False)\n",
    "\n",
    "print(\"Data converted to csv\")"
   ]
  },
  {
   "cell_type": "code",
   "execution_count": null,
   "metadata": {},
   "outputs": [
    {
     "name": "stdout",
     "output_type": "stream",
     "text": [
      "Accuracy: 0.4380582407642952\n",
      "\n",
      "Classification Report:\n",
      "               precision    recall  f1-score   support\n",
      "\n",
      "           0       0.48      0.51      0.50    107538\n",
      "           1       0.41      0.44      0.43    125818\n",
      "           2       0.41      0.43      0.42    129952\n",
      "           3       0.42      0.40      0.41    116354\n",
      "           4       0.48      0.41      0.44     86402\n",
      "\n",
      "    accuracy                           0.44    566064\n",
      "   macro avg       0.44      0.44      0.44    566064\n",
      "weighted avg       0.44      0.44      0.44    566064\n",
      "\n"
     ]
    }
   ],
   "source": [
    "#quick KNN\n",
    "from sklearn.neighbors import KNeighborsClassifier\n",
    "from sklearn.metrics import classification_report, accuracy_score\n",
    "\n",
    "\n",
    "# Initialize and train the KNN classifier\n",
    "knn = KNeighborsClassifier(n_neighbors=25)  # Default is 5 neighbors\n",
    "knn.fit(processed_X_train, y_train)\n",
    "\n",
    "# Make predictions\n",
    "y_val_pred = knn.predict(processed_X_val)\n",
    "\n",
    "# Evaluate the model\n",
    "print(\"Accuracy:\", accuracy_score(y_val, y_val_pred))\n",
    "print(\"\\nClassification Report:\\n\", classification_report(y_val, y_val_pred))\n"
   ]
  },
  {
   "cell_type": "markdown",
   "metadata": {},
   "source": [
    "# Quick KNN"
   ]
  },
  {
   "cell_type": "code",
   "execution_count": 4,
   "metadata": {},
   "outputs": [],
   "source": [
    "#quick KNN\n",
    "import pandas as pd\n",
    "from sklearn.model_selection import train_test_split\n",
    "from sklearn.preprocessing import StandardScaler\n",
    "from sklearn.neighbors import KNeighborsClassifier\n",
    "from sklearn.metrics import classification_report, accuracy_score\n",
    "\n",
    "global_pipeline = Pipeline([\n",
    "    ('processing', processing_pipeline),\n",
    "    ('StandardScaler', PartialStandardScaler(columns='all')),\n",
    "    ('estimator', KNeighborsClassifier(n_neighbors=25))\n",
    "])"
   ]
  },
  {
   "cell_type": "code",
   "execution_count": 5,
   "metadata": {},
   "outputs": [
    {
     "name": "stdout",
     "output_type": "stream",
     "text": [
      ">> (Info) Droped columns : []\n",
      ">> (Info) Column insee_%_agri has been standardized to numeric.\n",
      ">> (Info) Missing values in insee_%_agri filled with median: 3.4\n",
      ">> (Info) Missing values in meteo_rain_height filled with median: 0.1\n",
      ">> (INFO - PartialStandardScaler) columns ['piezo_station_altitude', 'meteo_altitude', 'date', 'meteo_rain_height', 'insee_%_agri'] have bean standardized\n"
     ]
    },
    {
     "data": {
      "text/html": [
       "<style>#sk-container-id-1 {color: black;background-color: white;}#sk-container-id-1 pre{padding: 0;}#sk-container-id-1 div.sk-toggleable {background-color: white;}#sk-container-id-1 label.sk-toggleable__label {cursor: pointer;display: block;width: 100%;margin-bottom: 0;padding: 0.3em;box-sizing: border-box;text-align: center;}#sk-container-id-1 label.sk-toggleable__label-arrow:before {content: \"▸\";float: left;margin-right: 0.25em;color: #696969;}#sk-container-id-1 label.sk-toggleable__label-arrow:hover:before {color: black;}#sk-container-id-1 div.sk-estimator:hover label.sk-toggleable__label-arrow:before {color: black;}#sk-container-id-1 div.sk-toggleable__content {max-height: 0;max-width: 0;overflow: hidden;text-align: left;background-color: #f0f8ff;}#sk-container-id-1 div.sk-toggleable__content pre {margin: 0.2em;color: black;border-radius: 0.25em;background-color: #f0f8ff;}#sk-container-id-1 input.sk-toggleable__control:checked~div.sk-toggleable__content {max-height: 200px;max-width: 100%;overflow: auto;}#sk-container-id-1 input.sk-toggleable__control:checked~label.sk-toggleable__label-arrow:before {content: \"▾\";}#sk-container-id-1 div.sk-estimator input.sk-toggleable__control:checked~label.sk-toggleable__label {background-color: #d4ebff;}#sk-container-id-1 div.sk-label input.sk-toggleable__control:checked~label.sk-toggleable__label {background-color: #d4ebff;}#sk-container-id-1 input.sk-hidden--visually {border: 0;clip: rect(1px 1px 1px 1px);clip: rect(1px, 1px, 1px, 1px);height: 1px;margin: -1px;overflow: hidden;padding: 0;position: absolute;width: 1px;}#sk-container-id-1 div.sk-estimator {font-family: monospace;background-color: #f0f8ff;border: 1px dotted black;border-radius: 0.25em;box-sizing: border-box;margin-bottom: 0.5em;}#sk-container-id-1 div.sk-estimator:hover {background-color: #d4ebff;}#sk-container-id-1 div.sk-parallel-item::after {content: \"\";width: 100%;border-bottom: 1px solid gray;flex-grow: 1;}#sk-container-id-1 div.sk-label:hover label.sk-toggleable__label {background-color: #d4ebff;}#sk-container-id-1 div.sk-serial::before {content: \"\";position: absolute;border-left: 1px solid gray;box-sizing: border-box;top: 0;bottom: 0;left: 50%;z-index: 0;}#sk-container-id-1 div.sk-serial {display: flex;flex-direction: column;align-items: center;background-color: white;padding-right: 0.2em;padding-left: 0.2em;position: relative;}#sk-container-id-1 div.sk-item {position: relative;z-index: 1;}#sk-container-id-1 div.sk-parallel {display: flex;align-items: stretch;justify-content: center;background-color: white;position: relative;}#sk-container-id-1 div.sk-item::before, #sk-container-id-1 div.sk-parallel-item::before {content: \"\";position: absolute;border-left: 1px solid gray;box-sizing: border-box;top: 0;bottom: 0;left: 50%;z-index: -1;}#sk-container-id-1 div.sk-parallel-item {display: flex;flex-direction: column;z-index: 1;position: relative;background-color: white;}#sk-container-id-1 div.sk-parallel-item:first-child::after {align-self: flex-end;width: 50%;}#sk-container-id-1 div.sk-parallel-item:last-child::after {align-self: flex-start;width: 50%;}#sk-container-id-1 div.sk-parallel-item:only-child::after {width: 0;}#sk-container-id-1 div.sk-dashed-wrapped {border: 1px dashed gray;margin: 0 0.4em 0.5em 0.4em;box-sizing: border-box;padding-bottom: 0.4em;background-color: white;}#sk-container-id-1 div.sk-label label {font-family: monospace;font-weight: bold;display: inline-block;line-height: 1.2em;}#sk-container-id-1 div.sk-label-container {text-align: center;}#sk-container-id-1 div.sk-container {/* jupyter's `normalize.less` sets `[hidden] { display: none; }` but bootstrap.min.css set `[hidden] { display: none !important; }` so we also need the `!important` here to be able to override the default hidden behavior on the sphinx rendered scikit-learn.org. See: https://github.com/scikit-learn/scikit-learn/issues/21755 */display: inline-block !important;position: relative;}#sk-container-id-1 div.sk-text-repr-fallback {display: none;}</style><div id=\"sk-container-id-1\" class=\"sk-top-container\"><div class=\"sk-text-repr-fallback\"><pre>Pipeline(steps=[(&#x27;processing&#x27;,\n",
       "                 Pipeline(steps=[(&#x27;DropNaRate&#x27;, DropNaRate(rate=0.7)),\n",
       "                                 (&#x27;CleanFeatures&#x27;,\n",
       "                                  CleanFeatures(cols=[&#x27;insee_%_agri&#x27;,\n",
       "                                                      &#x27;meteo_rain_height&#x27;])),\n",
       "                                 (&#x27;Altitude&#x27;,\n",
       "                                  AltitudeTrans(columns=[&#x27;piezo_station_altitude&#x27;,\n",
       "                                                         &#x27;meteo_altitude&#x27;])),\n",
       "                                 (&#x27;Dates&#x27;, DateTransformer())])),\n",
       "                (&#x27;StandardScaler&#x27;,\n",
       "                 PartialStandardScaler(columns=[&#x27;piezo_station_altitude&#x27;,\n",
       "                                                &#x27;meteo_altitude&#x27;, &#x27;date&#x27;,\n",
       "                                                &#x27;meteo_rain_height&#x27;,\n",
       "                                                &#x27;insee_%_agri&#x27;])),\n",
       "                (&#x27;estimator&#x27;, KNeighborsClassifier(n_neighbors=25))])</pre><b>In a Jupyter environment, please rerun this cell to show the HTML representation or trust the notebook. <br />On GitHub, the HTML representation is unable to render, please try loading this page with nbviewer.org.</b></div><div class=\"sk-container\" hidden><div class=\"sk-item sk-dashed-wrapped\"><div class=\"sk-label-container\"><div class=\"sk-label sk-toggleable\"><input class=\"sk-toggleable__control sk-hidden--visually\" id=\"sk-estimator-id-1\" type=\"checkbox\" ><label for=\"sk-estimator-id-1\" class=\"sk-toggleable__label sk-toggleable__label-arrow\">Pipeline</label><div class=\"sk-toggleable__content\"><pre>Pipeline(steps=[(&#x27;processing&#x27;,\n",
       "                 Pipeline(steps=[(&#x27;DropNaRate&#x27;, DropNaRate(rate=0.7)),\n",
       "                                 (&#x27;CleanFeatures&#x27;,\n",
       "                                  CleanFeatures(cols=[&#x27;insee_%_agri&#x27;,\n",
       "                                                      &#x27;meteo_rain_height&#x27;])),\n",
       "                                 (&#x27;Altitude&#x27;,\n",
       "                                  AltitudeTrans(columns=[&#x27;piezo_station_altitude&#x27;,\n",
       "                                                         &#x27;meteo_altitude&#x27;])),\n",
       "                                 (&#x27;Dates&#x27;, DateTransformer())])),\n",
       "                (&#x27;StandardScaler&#x27;,\n",
       "                 PartialStandardScaler(columns=[&#x27;piezo_station_altitude&#x27;,\n",
       "                                                &#x27;meteo_altitude&#x27;, &#x27;date&#x27;,\n",
       "                                                &#x27;meteo_rain_height&#x27;,\n",
       "                                                &#x27;insee_%_agri&#x27;])),\n",
       "                (&#x27;estimator&#x27;, KNeighborsClassifier(n_neighbors=25))])</pre></div></div></div><div class=\"sk-serial\"><div class=\"sk-item\"><div class=\"sk-label-container\"><div class=\"sk-label sk-toggleable\"><input class=\"sk-toggleable__control sk-hidden--visually\" id=\"sk-estimator-id-2\" type=\"checkbox\" ><label for=\"sk-estimator-id-2\" class=\"sk-toggleable__label sk-toggleable__label-arrow\">processing: Pipeline</label><div class=\"sk-toggleable__content\"><pre>Pipeline(steps=[(&#x27;DropNaRate&#x27;, DropNaRate(rate=0.7)),\n",
       "                (&#x27;CleanFeatures&#x27;,\n",
       "                 CleanFeatures(cols=[&#x27;insee_%_agri&#x27;, &#x27;meteo_rain_height&#x27;])),\n",
       "                (&#x27;Altitude&#x27;,\n",
       "                 AltitudeTrans(columns=[&#x27;piezo_station_altitude&#x27;,\n",
       "                                        &#x27;meteo_altitude&#x27;])),\n",
       "                (&#x27;Dates&#x27;, DateTransformer())])</pre></div></div></div><div class=\"sk-serial\"><div class=\"sk-item\"><div class=\"sk-estimator sk-toggleable\"><input class=\"sk-toggleable__control sk-hidden--visually\" id=\"sk-estimator-id-3\" type=\"checkbox\" ><label for=\"sk-estimator-id-3\" class=\"sk-toggleable__label sk-toggleable__label-arrow\">DropNaRate</label><div class=\"sk-toggleable__content\"><pre>DropNaRate(rate=0.7)</pre></div></div></div><div class=\"sk-item\"><div class=\"sk-estimator sk-toggleable\"><input class=\"sk-toggleable__control sk-hidden--visually\" id=\"sk-estimator-id-4\" type=\"checkbox\" ><label for=\"sk-estimator-id-4\" class=\"sk-toggleable__label sk-toggleable__label-arrow\">CleanFeatures</label><div class=\"sk-toggleable__content\"><pre>CleanFeatures(cols=[&#x27;insee_%_agri&#x27;, &#x27;meteo_rain_height&#x27;])</pre></div></div></div><div class=\"sk-item\"><div class=\"sk-estimator sk-toggleable\"><input class=\"sk-toggleable__control sk-hidden--visually\" id=\"sk-estimator-id-5\" type=\"checkbox\" ><label for=\"sk-estimator-id-5\" class=\"sk-toggleable__label sk-toggleable__label-arrow\">AltitudeTrans</label><div class=\"sk-toggleable__content\"><pre>AltitudeTrans(columns=[&#x27;piezo_station_altitude&#x27;, &#x27;meteo_altitude&#x27;])</pre></div></div></div><div class=\"sk-item\"><div class=\"sk-estimator sk-toggleable\"><input class=\"sk-toggleable__control sk-hidden--visually\" id=\"sk-estimator-id-6\" type=\"checkbox\" ><label for=\"sk-estimator-id-6\" class=\"sk-toggleable__label sk-toggleable__label-arrow\">DateTransformer</label><div class=\"sk-toggleable__content\"><pre>DateTransformer()</pre></div></div></div></div></div><div class=\"sk-item\"><div class=\"sk-estimator sk-toggleable\"><input class=\"sk-toggleable__control sk-hidden--visually\" id=\"sk-estimator-id-7\" type=\"checkbox\" ><label for=\"sk-estimator-id-7\" class=\"sk-toggleable__label sk-toggleable__label-arrow\">PartialStandardScaler</label><div class=\"sk-toggleable__content\"><pre>PartialStandardScaler(columns=[&#x27;piezo_station_altitude&#x27;, &#x27;meteo_altitude&#x27;,\n",
       "                               &#x27;date&#x27;, &#x27;meteo_rain_height&#x27;, &#x27;insee_%_agri&#x27;])</pre></div></div></div><div class=\"sk-item\"><div class=\"sk-estimator sk-toggleable\"><input class=\"sk-toggleable__control sk-hidden--visually\" id=\"sk-estimator-id-8\" type=\"checkbox\" ><label for=\"sk-estimator-id-8\" class=\"sk-toggleable__label sk-toggleable__label-arrow\">KNeighborsClassifier</label><div class=\"sk-toggleable__content\"><pre>KNeighborsClassifier(n_neighbors=25)</pre></div></div></div></div></div></div></div>"
      ],
      "text/plain": [
       "Pipeline(steps=[('processing',\n",
       "                 Pipeline(steps=[('DropNaRate', DropNaRate(rate=0.7)),\n",
       "                                 ('CleanFeatures',\n",
       "                                  CleanFeatures(cols=['insee_%_agri',\n",
       "                                                      'meteo_rain_height'])),\n",
       "                                 ('Altitude',\n",
       "                                  AltitudeTrans(columns=['piezo_station_altitude',\n",
       "                                                         'meteo_altitude'])),\n",
       "                                 ('Dates', DateTransformer())])),\n",
       "                ('StandardScaler',\n",
       "                 PartialStandardScaler(columns=['piezo_station_altitude',\n",
       "                                                'meteo_altitude', 'date',\n",
       "                                                'meteo_rain_height',\n",
       "                                                'insee_%_agri'])),\n",
       "                ('estimator', KNeighborsClassifier(n_neighbors=25))])"
      ]
     },
     "execution_count": 5,
     "metadata": {},
     "output_type": "execute_result"
    }
   ],
   "source": [
    "global_pipeline.fit(X_train, y_train)"
   ]
  },
  {
   "cell_type": "code",
   "execution_count": 7,
   "metadata": {},
   "outputs": [
    {
     "name": "stdout",
     "output_type": "stream",
     "text": [
      ">> (Info) Missing values in insee_%_agri filled with median: 3.4\n",
      ">> (Info) Missing values in meteo_rain_height filled with median: 0.1\n",
      ">> (INFO - PartialStandardScaler) columns ['piezo_station_altitude', 'meteo_altitude', 'date', 'meteo_rain_height', 'insee_%_agri'] have bean standardized\n"
     ]
    }
   ],
   "source": [
    "y_val_pred = global_pipeline.predict(X_val)\n",
    "\n",
    "# Evaluate the model\n",
    "print(\"Accuracy:\", accuracy_score(y_val, y_val_pred))\n",
    "print(\"\\nClassification Report:\\n\", classification_report(y_val, y_val_pred))"
   ]
  },
  {
   "cell_type": "code",
   "execution_count": 8,
   "metadata": {},
   "outputs": [
    {
     "name": "stdout",
     "output_type": "stream",
     "text": [
      "Accuracy: 0.4380582407642952\n",
      "\n",
      "Classification Report:\n",
      "               precision    recall  f1-score   support\n",
      "\n",
      "           0       0.48      0.51      0.50    107538\n",
      "           1       0.41      0.44      0.43    125818\n",
      "           2       0.41      0.43      0.42    129952\n",
      "           3       0.42      0.40      0.41    116354\n",
      "           4       0.48      0.41      0.44     86402\n",
      "\n",
      "    accuracy                           0.44    566064\n",
      "   macro avg       0.44      0.44      0.44    566064\n",
      "weighted avg       0.44      0.44      0.44    566064\n",
      "\n"
     ]
    }
   ],
   "source": [
    "# Evaluate the model\n",
    "print(\"Accuracy:\", accuracy_score(y_val, y_val_pred))\n",
    "print(\"\\nClassification Report:\\n\", classification_report(y_val, y_val_pred))"
   ]
  },
  {
   "cell_type": "markdown",
   "metadata": {},
   "source": [
    "### Save Pipeline"
   ]
  },
  {
   "cell_type": "code",
   "execution_count": 9,
   "metadata": {},
   "outputs": [],
   "source": [
    "pipeline_name = \"1st_pipeline_12h26\"\n",
    "\n",
    "# Writing to sample.json\n",
    "with open(out_folder_config / Path(pipeline_name + \".pkl\"), \"wb\") as file:\n",
    "    pickle.dump(global_pipeline, file)"
   ]
  }
 ],
 "metadata": {
  "kernelspec": {
   "display_name": "base",
   "language": "python",
   "name": "python3"
  },
  "language_info": {
   "codemirror_mode": {
    "name": "ipython",
    "version": 3
   },
   "file_extension": ".py",
   "mimetype": "text/x-python",
   "name": "python",
   "nbconvert_exporter": "python",
   "pygments_lexer": "ipython3",
   "version": "3.10.9"
  }
 },
 "nbformat": 4,
 "nbformat_minor": 2
}
