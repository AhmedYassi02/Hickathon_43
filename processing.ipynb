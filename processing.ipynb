{
 "cells": [
  {
   "cell_type": "markdown",
   "metadata": {},
   "source": [
    "## Application des transformations definies dans \"trasnfromers.py\""
   ]
  },
  {
   "cell_type": "code",
   "execution_count": 7,
   "metadata": {},
   "outputs": [],
   "source": [
    "from transformers import *"
   ]
  },
  {
   "cell_type": "code",
   "execution_count": 8,
   "metadata": {},
   "outputs": [],
   "source": [
    "import pandas as pd\n",
    "from abc import ABC, abstractmethod\n",
    "from sklearn.base import BaseEstimator, TransformerMixin\n",
    "from sklearn.preprocessing import StandardScaler\n",
    "from sklearn.pipeline import Pipeline\n",
    "from pathlib import Path\n",
    "from sklearn.model_selection import train_test_split\n",
    "\n",
    "import pickle\n"
   ]
  },
  {
   "cell_type": "code",
   "execution_count": 9,
   "metadata": {},
   "outputs": [],
   "source": [
    "columns_to_drop = [\n",
    "        \"piezo_station_department_name\",\n",
    "        \"piezo_station_update_date\",\n",
    "        \"piezo_station_commune_code_insee\",\n",
    "        \"piezo_station_pe_label\",\n",
    "        \"piezo_station_bdlisa_codes\",\n",
    "        \"piezo_station_bss_code\",\n",
    "        \"piezo_station_bss_id\", \n",
    "        \"piezo_bss_code\",\n",
    "        \"piezo_measurement_date\",\n",
    "        \"piezo_producer_name\",\n",
    "        \"piezo_measure_nature_code\",\n",
    "        \"meteo_name\",\n",
    "        \"meteo_id\", \n",
    "        \"meteo_latitude\",\n",
    "        \"meteo_longitude\",\n",
    "        \"hydro_station_code\",\n",
    "        \"hydro_method_code\", \n",
    "        \"hydro_method_label\", \n",
    "        \"hydro_qualification_label\", \n",
    "        \"prelev_structure_code_0\",\n",
    "        \"prelev_structure_code_2\",\n",
    "        \"prelev_structure_code_0\",\n",
    "        \"prelev_commune_code_insee_0\",\n",
    "        \"piezo_station_department_code\",\n",
    "        \n",
    "        \"meteo_DRR\", \n",
    "        \"meteo_temperature_min_ground\", \n",
    "        \"meteo_temperature_min_50cm\", \n",
    "        \"meteo_pressure_avg\",\n",
    "        \"meteo_pression_maxi\", \n",
    "        \"meteo_wind_speed_avg_2m\", \n",
    "        \"meteo_wind_max_2m\", \n",
    "        \"meteo_wind_direction_max_inst_2m\", \n",
    "        \"meteo_time_wind_max_2m\", \n",
    "        \"meteo_wetting_duration\", \n",
    "        \"meteo_sunshine_duration\", \n",
    "        \"meteo_radiation\", \n",
    "        \"meteo_radiation_direct\", \n",
    "        \"meteo_sunshine_%\", \n",
    "        \"meteo_radiation_IR\", \n",
    "        \"meteo_radiation_UV_max\", \n",
    "        \"meteo_cloudiness\", \n",
    "        \"meteo_cloudiness_height\", \n",
    "        \"meteo_if_snow\", \n",
    "        \"meteo_if_fog\", \n",
    "        \"meteo_if_thunderstorm\", \n",
    "        \"meteo_if_sleet\", \n",
    "        \"meteo_if_hail\", \n",
    "        \"meteo_if_dew\", \n",
    "        \"meteo_if_black_ice\", \n",
    "        \"meteo_if_snow_ground\", \n",
    "        \"meteo_if_frost\", \n",
    "        \"meteo_if_smoke\", \n",
    "        \"meteo_if_mist\",\n",
    "        \"meteo_if_lightning\", \n",
    "        \"meteo_evapotranspiration_Monteith\", \n",
    "        \"meteo_radiation_UV\", \n",
    "        \"meteo_snow_height\", \n",
    "        \"meteo_snow_thickness_max\", \n",
    "        \"meteo_snow_thickness_6h\"]\n",
    "\n",
    "ajouts_drop_yael = [\"meteo_altitude\",\"meteo_temperature_min\",\"meteo_temperature_max\"]\n",
    "\n",
    "\n",
    "columns_to_drop+=ajouts_drop_yael"
   ]
  },
  {
   "cell_type": "code",
   "execution_count": 10,
   "metadata": {},
   "outputs": [
    {
     "data": {
      "text/plain": [
       "['meteo_date',\n",
       " 'insee_%_agri',\n",
       " 'meteo_rain_height',\n",
       " 'piezo_station_altitude',\n",
       " 'meteo_altitude',\n",
       " 'piezo_station_department_code',\n",
       " 'piezo_measurement_date',\n",
       " 'meteo_temperature_avg',\n",
       " 'meteo_temperature_min',\n",
       " 'meteo__pressure_saturation_avg',\n",
       " 'meteo_temperature_max',\n",
       " 'distance_piezo_meteo',\n",
       " 'piezo_station_longitude',\n",
       " 'piezo_station_latitude',\n",
       " 'meteo_latitude',\n",
       " 'meteo_longitude',\n",
       " 'piezo_groundwater_level_category']"
      ]
     },
     "execution_count": 10,
     "metadata": {},
     "output_type": "execute_result"
    }
   ],
   "source": [
    "# Specification des colonnes  a garder \n",
    "\n",
    "##ANCIENNE VERSION\n",
    "#all_columns = pd.read_csv(path_src_dataset, nrows=0).columns.tolist()\n",
    "#columns_to_keep = [col for col in all_columns if col not in columns_to_drop] \n",
    "\n",
    "\n",
    "##NOUVELLE VERSION \n",
    "#Je précise ci dessous les colonnes nécessaires pour chacun des transformers, et en commentaire l'ordre dans lequel ce transformer sera utilisé\n",
    "#Date\n",
    "col_yass = ['meteo_date'] #ORDRE = 4 (en dernier car il supprime les dates )\n",
    "#Altitude\n",
    "col_flo = [\"piezo_station_altitude\", \"meteo_altitude\"] # ORDRE 1\n",
    "#Insee & rain \"CleanFeatures\"\n",
    "cols_yael = [\"insee_%_agri\",\"meteo_rain_height\"]\n",
    "#Temperature\n",
    "cols_lucien_need = ['piezo_station_department_code', 'piezo_measurement_date']\n",
    "cols_lucien_input = ['meteo_temperature_avg','meteo_temperature_min','meteo__pressure_saturation_avg','meteo_temperature_max']\n",
    "#Lat Long\n",
    "cols_mat = [\"distance_piezo_meteo\",'piezo_station_longitude','piezo_station_latitude','meteo_latitude','meteo_longitude']\n",
    "\n",
    "#target\n",
    "target = \"piezo_groundwater_level_category\"\n",
    "\n",
    "columns_to_keep = col_yass + cols_yael + col_flo + cols_lucien_need + cols_lucien_input + cols_mat + [target]\n",
    "\n",
    "columns_to_keep"
   ]
  },
  {
   "cell_type": "code",
   "execution_count": 11,
   "metadata": {},
   "outputs": [],
   "source": [
    "path_src_dataset = Path(\"./data/src/X_train_Hi5.csv\")\n",
    "\n",
    "out_folder_dataset = Path(\"./data/cleaned\")\n",
    "# Create the folder if it doesn't exist\n",
    "out_folder_dataset.mkdir(parents=True, exist_ok=True)\n",
    "\n",
    "out_folder_config = Path(\"./data/processed/pipelines\")\n",
    "out_folder_config.mkdir(parents=True, exist_ok=True)\n",
    "\n",
    "# Load the CSV file with only the relevant columns\n",
    "df = pd.read_csv(path_src_dataset, usecols=columns_to_keep,nrows=10e4) #  SI on veut charger moins de lignes : ajouter --> ,nrows=10e4)\n",
    "\n",
    "target = \"piezo_groundwater_level_category\"\n",
    "X = df.drop(columns=target)\n",
    "\n",
    "#Mapping du target \n",
    "mapping = {'Very Low': 0, 'Low': 1, 'Average': 2, 'High': 3, 'Very High': 4}\n",
    "y = df[target].map(mapping)\n",
    "\n",
    "#Test-val split \n",
    "X_train, X_val, y_train, y_val = train_test_split(X, y, test_size=0.2, random_state=42)\n",
    "\n",
    "\n",
    "# Apply the transformers selected\n",
    "processing_pipeline = Pipeline(steps=[\n",
    "(\"DropNaRate\", DropNaRate(0.7)),\n",
    "(\"CleanFeatures\", CleanFeatures([\"insee_%_agri\",\"meteo_rain_height\"])),\n",
    "(\"Altitude\", AltitudeTrans(columns=[\"piezo_station_altitude\", \"meteo_altitude\"])),\n",
    "('LatLong',CleanLatLon()),\n",
    "('Temp',TemperaturePressionTrans(columns=cols_lucien_input)),\n",
    "('Dates',DateTransformer()),\n",
    "('DropCols',DropCols(columns_to_drop) )\n",
    "\n",
    "# ... Add others transformations\n",
    "])"
   ]
  },
  {
   "cell_type": "code",
   "execution_count": 12,
   "metadata": {},
   "outputs": [
    {
     "name": "stdout",
     "output_type": "stream",
     "text": [
      "Pipeline ongoing...\n",
      ">> (Info) Droped columns : []\n",
      ">> (Info) Column insee_%_agri has been standardized to numeric.\n",
      ">> (Info) Missing values in insee_%_agri filled with median: 3.4\n",
      ">> (Info) Missing values in meteo_rain_height filled with median: 0.2\n",
      "Unexpected exception formatting exception. Falling back to standard exception\n"
     ]
    },
    {
     "name": "stderr",
     "output_type": "stream",
     "text": [
      "Traceback (most recent call last):\n",
      "  File \"d:\\Applications\\miniconda\\envs\\cfm\\lib\\site-packages\\IPython\\core\\interactiveshell.py\", line 3526, in run_code\n",
      "    exec(code_obj, self.user_global_ns, self.user_ns)\n",
      "  File \"C:\\Users\\yaeld\\AppData\\Local\\Temp\\ipykernel_34004\\1969749517.py\", line 2, in <module>\n",
      "    processed_X_train = processing_pipeline.fit_transform(X_train)\n",
      "  File \"d:\\Applications\\miniconda\\envs\\cfm\\lib\\site-packages\\sklearn\\base.py\", line 1473, in wrapper\n",
      "    return fit_method(estimator, *args, **kwargs)\n",
      "  File \"d:\\Applications\\miniconda\\envs\\cfm\\lib\\site-packages\\sklearn\\pipeline.py\", line 533, in fit_transform\n",
      "    Xt = self._fit(X, y, routed_params)\n",
      "  File \"d:\\Applications\\miniconda\\envs\\cfm\\lib\\site-packages\\sklearn\\pipeline.py\", line 406, in _fit\n",
      "    X, fitted_transformer = fit_transform_one_cached(\n",
      "  File \"d:\\Applications\\miniconda\\envs\\cfm\\lib\\site-packages\\joblib\\memory.py\", line 312, in __call__\n",
      "    return self.func(*args, **kwargs)\n",
      "  File \"d:\\Applications\\miniconda\\envs\\cfm\\lib\\site-packages\\sklearn\\pipeline.py\", line 1310, in _fit_transform_one\n",
      "    res = transformer.fit_transform(X, y, **params.get(\"fit_transform\", {}))\n",
      "  File \"d:\\Applications\\miniconda\\envs\\cfm\\lib\\site-packages\\sklearn\\utils\\_set_output.py\", line 313, in wrapped\n",
      "    data_to_wrap = f(self, X, *args, **kwargs)\n",
      "  File \"d:\\Applications\\miniconda\\envs\\cfm\\lib\\site-packages\\sklearn\\base.py\", line 1098, in fit_transform\n",
      "    return self.fit(X, **fit_params).transform(X)\n",
      "  File \"d:\\Applications\\miniconda\\envs\\cfm\\lib\\site-packages\\sklearn\\utils\\_set_output.py\", line 313, in wrapped\n",
      "    data_to_wrap = f(self, X, *args, **kwargs)\n",
      "  File \"d:\\Desktop\\Hickathon_43\\transformers.py\", line 331, in transform\n",
      "    X.drop(columns=drop_cols, inplace=True)\n",
      "  File \"d:\\Applications\\miniconda\\envs\\cfm\\lib\\site-packages\\pandas\\core\\frame.py\", line 5581, in drop\n",
      "    return super().drop(\n",
      "  File \"d:\\Applications\\miniconda\\envs\\cfm\\lib\\site-packages\\pandas\\core\\generic.py\", line 4788, in drop\n",
      "    obj = obj._drop_axis(labels, axis, level=level, errors=errors)\n",
      "  File \"d:\\Applications\\miniconda\\envs\\cfm\\lib\\site-packages\\pandas\\core\\generic.py\", line 4830, in _drop_axis\n",
      "    new_axis = axis.drop(labels, errors=errors)\n",
      "  File \"d:\\Applications\\miniconda\\envs\\cfm\\lib\\site-packages\\pandas\\core\\indexes\\base.py\", line 7070, in drop\n",
      "    raise KeyError(f\"{labels[mask].tolist()} not found in axis\")\n",
      "KeyError: \"['hydro_longitude', 'hydro_latitude', 'prelev_longitude_0', 'prelev_latitude_0', 'prelev_longitude_1', 'prelev_latitude_1', 'prelev_longitude_2', 'prelev_latitude_2'] not found in axis\"\n",
      "\n",
      "During handling of the above exception, another exception occurred:\n",
      "\n",
      "Traceback (most recent call last):\n",
      "  File \"d:\\Applications\\miniconda\\envs\\cfm\\lib\\site-packages\\IPython\\core\\interactiveshell.py\", line 2120, in showtraceback\n",
      "    stb = self.InteractiveTB.structured_traceback(\n",
      "  File \"d:\\Applications\\miniconda\\envs\\cfm\\lib\\site-packages\\IPython\\core\\ultratb.py\", line 1435, in structured_traceback\n",
      "    return FormattedTB.structured_traceback(\n",
      "  File \"d:\\Applications\\miniconda\\envs\\cfm\\lib\\site-packages\\IPython\\core\\ultratb.py\", line 1326, in structured_traceback\n",
      "    return VerboseTB.structured_traceback(\n",
      "  File \"d:\\Applications\\miniconda\\envs\\cfm\\lib\\site-packages\\IPython\\core\\ultratb.py\", line 1173, in structured_traceback\n",
      "    formatted_exception = self.format_exception_as_a_whole(etype, evalue, etb, number_of_lines_of_context,\n",
      "  File \"d:\\Applications\\miniconda\\envs\\cfm\\lib\\site-packages\\IPython\\core\\ultratb.py\", line 1088, in format_exception_as_a_whole\n",
      "    frames.append(self.format_record(record))\n",
      "  File \"d:\\Applications\\miniconda\\envs\\cfm\\lib\\site-packages\\IPython\\core\\ultratb.py\", line 970, in format_record\n",
      "    frame_info.lines, Colors, self.has_colors, lvals\n",
      "  File \"d:\\Applications\\miniconda\\envs\\cfm\\lib\\site-packages\\IPython\\core\\ultratb.py\", line 792, in lines\n",
      "    return self._sd.lines\n",
      "  File \"d:\\Applications\\miniconda\\envs\\cfm\\lib\\site-packages\\stack_data\\utils.py\", line 145, in cached_property_wrapper\n",
      "    value = obj.__dict__[self.func.__name__] = self.func(obj)\n",
      "  File \"d:\\Applications\\miniconda\\envs\\cfm\\lib\\site-packages\\stack_data\\core.py\", line 698, in lines\n",
      "    pieces = self.included_pieces\n",
      "  File \"d:\\Applications\\miniconda\\envs\\cfm\\lib\\site-packages\\stack_data\\utils.py\", line 145, in cached_property_wrapper\n",
      "    value = obj.__dict__[self.func.__name__] = self.func(obj)\n",
      "  File \"d:\\Applications\\miniconda\\envs\\cfm\\lib\\site-packages\\stack_data\\core.py\", line 649, in included_pieces\n",
      "    pos = scope_pieces.index(self.executing_piece)\n",
      "  File \"d:\\Applications\\miniconda\\envs\\cfm\\lib\\site-packages\\stack_data\\utils.py\", line 145, in cached_property_wrapper\n",
      "    value = obj.__dict__[self.func.__name__] = self.func(obj)\n",
      "  File \"d:\\Applications\\miniconda\\envs\\cfm\\lib\\site-packages\\stack_data\\core.py\", line 628, in executing_piece\n",
      "    return only(\n",
      "  File \"d:\\Applications\\miniconda\\envs\\cfm\\lib\\site-packages\\executing\\executing.py\", line 164, in only\n",
      "    raise NotOneValueFound('Expected one value, found 0')\n",
      "executing.executing.NotOneValueFound: Expected one value, found 0\n"
     ]
    }
   ],
   "source": [
    "print(\"Pipeline ongoing...\")\n",
    "processed_X_train = processing_pipeline.fit_transform(X_train)\n",
    "processed_X_val = processing_pipeline.transform(X_val)"
   ]
  },
  {
   "cell_type": "code",
   "execution_count": null,
   "metadata": {},
   "outputs": [],
   "source": [
    "\n",
    "# # Save the processed data to CSV\n",
    "# processed_X_train.to_csv(out_folder_dataset / \"X_train.csv\", index=False)\n",
    "# processed_X_val.to_csv(out_folder_dataset / \"X_val.csv\", index=False)\n",
    "# y_train.to_csv(out_folder_dataset / \"y_train.csv\", index=False)\n",
    "# y_val.to_csv(out_folder_dataset / \"y_val.csv\", index=False)\n",
    "\n",
    "print(\"Data converted to csv\")"
   ]
  },
  {
   "cell_type": "code",
   "execution_count": null,
   "metadata": {},
   "outputs": [
    {
     "name": "stdout",
     "output_type": "stream",
     "text": [
      "Accuracy: 0.4380582407642952\n",
      "\n",
      "Classification Report:\n",
      "               precision    recall  f1-score   support\n",
      "\n",
      "           0       0.48      0.51      0.50    107538\n",
      "           1       0.41      0.44      0.43    125818\n",
      "           2       0.41      0.43      0.42    129952\n",
      "           3       0.42      0.40      0.41    116354\n",
      "           4       0.48      0.41      0.44     86402\n",
      "\n",
      "    accuracy                           0.44    566064\n",
      "   macro avg       0.44      0.44      0.44    566064\n",
      "weighted avg       0.44      0.44      0.44    566064\n",
      "\n"
     ]
    }
   ],
   "source": [
    "#quick KNN\n",
    "from sklearn.neighbors import KNeighborsClassifier\n",
    "from sklearn.metrics import classification_report, accuracy_score\n",
    "\n",
    "\n",
    "# Initialize and train the KNN classifier\n",
    "knn = KNeighborsClassifier(n_neighbors=25)  # Default is 5 neighbors\n",
    "knn.fit(processed_X_train, y_train)\n",
    "\n",
    "# Make predictions\n",
    "y_val_pred = knn.predict(processed_X_val)\n",
    "\n",
    "# Evaluate the model\n",
    "print(\"Accuracy:\", accuracy_score(y_val, y_val_pred))\n",
    "print(\"\\nClassification Report:\\n\", classification_report(y_val, y_val_pred))\n"
   ]
  },
  {
   "cell_type": "code",
   "execution_count": null,
   "metadata": {},
   "outputs": [],
   "source": [
    "#quick KNN\n",
    "import pandas as pd\n",
    "from sklearn.model_selection import train_test_split\n",
    "from sklearn.preprocessing import StandardScaler\n",
    "from sklearn.neighbors import KNeighborsClassifier\n",
    "from sklearn.metrics import classification_report, accuracy_score\n",
    "\n",
    "global_pipeline = Pipeline([\n",
    "    ('processing', processing_pipeline),\n",
    "    ('StandardScaler', PartialStandardScaler(columns='all')),\n",
    "    ('estimator', KNeighborsClassifier(n_neighbors=25))\n",
    "])"
   ]
  },
  {
   "cell_type": "code",
   "execution_count": null,
   "metadata": {},
   "outputs": [
    {
     "name": "stdout",
     "output_type": "stream",
     "text": [
      ">> (Info) Droped columns : []\n",
      ">> (Info) Column insee_%_agri has been standardized to numeric.\n",
      ">> (Info) Missing values in insee_%_agri filled with median: 3.4\n",
      ">> (Info) Missing values in meteo_rain_height filled with median: 0.1\n",
      ">> (INFO - PartialStandardScaler) columns ['piezo_station_altitude', 'meteo_altitude', 'date', 'meteo_rain_height', 'insee_%_agri'] have bean standardized\n"
     ]
    },
    {
     "data": {
      "text/html": [
       "<style>#sk-container-id-1 {color: black;background-color: white;}#sk-container-id-1 pre{padding: 0;}#sk-container-id-1 div.sk-toggleable {background-color: white;}#sk-container-id-1 label.sk-toggleable__label {cursor: pointer;display: block;width: 100%;margin-bottom: 0;padding: 0.3em;box-sizing: border-box;text-align: center;}#sk-container-id-1 label.sk-toggleable__label-arrow:before {content: \"▸\";float: left;margin-right: 0.25em;color: #696969;}#sk-container-id-1 label.sk-toggleable__label-arrow:hover:before {color: black;}#sk-container-id-1 div.sk-estimator:hover label.sk-toggleable__label-arrow:before {color: black;}#sk-container-id-1 div.sk-toggleable__content {max-height: 0;max-width: 0;overflow: hidden;text-align: left;background-color: #f0f8ff;}#sk-container-id-1 div.sk-toggleable__content pre {margin: 0.2em;color: black;border-radius: 0.25em;background-color: #f0f8ff;}#sk-container-id-1 input.sk-toggleable__control:checked~div.sk-toggleable__content {max-height: 200px;max-width: 100%;overflow: auto;}#sk-container-id-1 input.sk-toggleable__control:checked~label.sk-toggleable__label-arrow:before {content: \"▾\";}#sk-container-id-1 div.sk-estimator input.sk-toggleable__control:checked~label.sk-toggleable__label {background-color: #d4ebff;}#sk-container-id-1 div.sk-label input.sk-toggleable__control:checked~label.sk-toggleable__label {background-color: #d4ebff;}#sk-container-id-1 input.sk-hidden--visually {border: 0;clip: rect(1px 1px 1px 1px);clip: rect(1px, 1px, 1px, 1px);height: 1px;margin: -1px;overflow: hidden;padding: 0;position: absolute;width: 1px;}#sk-container-id-1 div.sk-estimator {font-family: monospace;background-color: #f0f8ff;border: 1px dotted black;border-radius: 0.25em;box-sizing: border-box;margin-bottom: 0.5em;}#sk-container-id-1 div.sk-estimator:hover {background-color: #d4ebff;}#sk-container-id-1 div.sk-parallel-item::after {content: \"\";width: 100%;border-bottom: 1px solid gray;flex-grow: 1;}#sk-container-id-1 div.sk-label:hover label.sk-toggleable__label {background-color: #d4ebff;}#sk-container-id-1 div.sk-serial::before {content: \"\";position: absolute;border-left: 1px solid gray;box-sizing: border-box;top: 0;bottom: 0;left: 50%;z-index: 0;}#sk-container-id-1 div.sk-serial {display: flex;flex-direction: column;align-items: center;background-color: white;padding-right: 0.2em;padding-left: 0.2em;position: relative;}#sk-container-id-1 div.sk-item {position: relative;z-index: 1;}#sk-container-id-1 div.sk-parallel {display: flex;align-items: stretch;justify-content: center;background-color: white;position: relative;}#sk-container-id-1 div.sk-item::before, #sk-container-id-1 div.sk-parallel-item::before {content: \"\";position: absolute;border-left: 1px solid gray;box-sizing: border-box;top: 0;bottom: 0;left: 50%;z-index: -1;}#sk-container-id-1 div.sk-parallel-item {display: flex;flex-direction: column;z-index: 1;position: relative;background-color: white;}#sk-container-id-1 div.sk-parallel-item:first-child::after {align-self: flex-end;width: 50%;}#sk-container-id-1 div.sk-parallel-item:last-child::after {align-self: flex-start;width: 50%;}#sk-container-id-1 div.sk-parallel-item:only-child::after {width: 0;}#sk-container-id-1 div.sk-dashed-wrapped {border: 1px dashed gray;margin: 0 0.4em 0.5em 0.4em;box-sizing: border-box;padding-bottom: 0.4em;background-color: white;}#sk-container-id-1 div.sk-label label {font-family: monospace;font-weight: bold;display: inline-block;line-height: 1.2em;}#sk-container-id-1 div.sk-label-container {text-align: center;}#sk-container-id-1 div.sk-container {/* jupyter's `normalize.less` sets `[hidden] { display: none; }` but bootstrap.min.css set `[hidden] { display: none !important; }` so we also need the `!important` here to be able to override the default hidden behavior on the sphinx rendered scikit-learn.org. See: https://github.com/scikit-learn/scikit-learn/issues/21755 */display: inline-block !important;position: relative;}#sk-container-id-1 div.sk-text-repr-fallback {display: none;}</style><div id=\"sk-container-id-1\" class=\"sk-top-container\"><div class=\"sk-text-repr-fallback\"><pre>Pipeline(steps=[(&#x27;processing&#x27;,\n",
       "                 Pipeline(steps=[(&#x27;DropNaRate&#x27;, DropNaRate(rate=0.7)),\n",
       "                                 (&#x27;CleanFeatures&#x27;,\n",
       "                                  CleanFeatures(cols=[&#x27;insee_%_agri&#x27;,\n",
       "                                                      &#x27;meteo_rain_height&#x27;])),\n",
       "                                 (&#x27;Altitude&#x27;,\n",
       "                                  AltitudeTrans(columns=[&#x27;piezo_station_altitude&#x27;,\n",
       "                                                         &#x27;meteo_altitude&#x27;])),\n",
       "                                 (&#x27;Dates&#x27;, DateTransformer())])),\n",
       "                (&#x27;StandardScaler&#x27;,\n",
       "                 PartialStandardScaler(columns=[&#x27;piezo_station_altitude&#x27;,\n",
       "                                                &#x27;meteo_altitude&#x27;, &#x27;date&#x27;,\n",
       "                                                &#x27;meteo_rain_height&#x27;,\n",
       "                                                &#x27;insee_%_agri&#x27;])),\n",
       "                (&#x27;estimator&#x27;, KNeighborsClassifier(n_neighbors=25))])</pre><b>In a Jupyter environment, please rerun this cell to show the HTML representation or trust the notebook. <br />On GitHub, the HTML representation is unable to render, please try loading this page with nbviewer.org.</b></div><div class=\"sk-container\" hidden><div class=\"sk-item sk-dashed-wrapped\"><div class=\"sk-label-container\"><div class=\"sk-label sk-toggleable\"><input class=\"sk-toggleable__control sk-hidden--visually\" id=\"sk-estimator-id-1\" type=\"checkbox\" ><label for=\"sk-estimator-id-1\" class=\"sk-toggleable__label sk-toggleable__label-arrow\">Pipeline</label><div class=\"sk-toggleable__content\"><pre>Pipeline(steps=[(&#x27;processing&#x27;,\n",
       "                 Pipeline(steps=[(&#x27;DropNaRate&#x27;, DropNaRate(rate=0.7)),\n",
       "                                 (&#x27;CleanFeatures&#x27;,\n",
       "                                  CleanFeatures(cols=[&#x27;insee_%_agri&#x27;,\n",
       "                                                      &#x27;meteo_rain_height&#x27;])),\n",
       "                                 (&#x27;Altitude&#x27;,\n",
       "                                  AltitudeTrans(columns=[&#x27;piezo_station_altitude&#x27;,\n",
       "                                                         &#x27;meteo_altitude&#x27;])),\n",
       "                                 (&#x27;Dates&#x27;, DateTransformer())])),\n",
       "                (&#x27;StandardScaler&#x27;,\n",
       "                 PartialStandardScaler(columns=[&#x27;piezo_station_altitude&#x27;,\n",
       "                                                &#x27;meteo_altitude&#x27;, &#x27;date&#x27;,\n",
       "                                                &#x27;meteo_rain_height&#x27;,\n",
       "                                                &#x27;insee_%_agri&#x27;])),\n",
       "                (&#x27;estimator&#x27;, KNeighborsClassifier(n_neighbors=25))])</pre></div></div></div><div class=\"sk-serial\"><div class=\"sk-item\"><div class=\"sk-label-container\"><div class=\"sk-label sk-toggleable\"><input class=\"sk-toggleable__control sk-hidden--visually\" id=\"sk-estimator-id-2\" type=\"checkbox\" ><label for=\"sk-estimator-id-2\" class=\"sk-toggleable__label sk-toggleable__label-arrow\">processing: Pipeline</label><div class=\"sk-toggleable__content\"><pre>Pipeline(steps=[(&#x27;DropNaRate&#x27;, DropNaRate(rate=0.7)),\n",
       "                (&#x27;CleanFeatures&#x27;,\n",
       "                 CleanFeatures(cols=[&#x27;insee_%_agri&#x27;, &#x27;meteo_rain_height&#x27;])),\n",
       "                (&#x27;Altitude&#x27;,\n",
       "                 AltitudeTrans(columns=[&#x27;piezo_station_altitude&#x27;,\n",
       "                                        &#x27;meteo_altitude&#x27;])),\n",
       "                (&#x27;Dates&#x27;, DateTransformer())])</pre></div></div></div><div class=\"sk-serial\"><div class=\"sk-item\"><div class=\"sk-estimator sk-toggleable\"><input class=\"sk-toggleable__control sk-hidden--visually\" id=\"sk-estimator-id-3\" type=\"checkbox\" ><label for=\"sk-estimator-id-3\" class=\"sk-toggleable__label sk-toggleable__label-arrow\">DropNaRate</label><div class=\"sk-toggleable__content\"><pre>DropNaRate(rate=0.7)</pre></div></div></div><div class=\"sk-item\"><div class=\"sk-estimator sk-toggleable\"><input class=\"sk-toggleable__control sk-hidden--visually\" id=\"sk-estimator-id-4\" type=\"checkbox\" ><label for=\"sk-estimator-id-4\" class=\"sk-toggleable__label sk-toggleable__label-arrow\">CleanFeatures</label><div class=\"sk-toggleable__content\"><pre>CleanFeatures(cols=[&#x27;insee_%_agri&#x27;, &#x27;meteo_rain_height&#x27;])</pre></div></div></div><div class=\"sk-item\"><div class=\"sk-estimator sk-toggleable\"><input class=\"sk-toggleable__control sk-hidden--visually\" id=\"sk-estimator-id-5\" type=\"checkbox\" ><label for=\"sk-estimator-id-5\" class=\"sk-toggleable__label sk-toggleable__label-arrow\">AltitudeTrans</label><div class=\"sk-toggleable__content\"><pre>AltitudeTrans(columns=[&#x27;piezo_station_altitude&#x27;, &#x27;meteo_altitude&#x27;])</pre></div></div></div><div class=\"sk-item\"><div class=\"sk-estimator sk-toggleable\"><input class=\"sk-toggleable__control sk-hidden--visually\" id=\"sk-estimator-id-6\" type=\"checkbox\" ><label for=\"sk-estimator-id-6\" class=\"sk-toggleable__label sk-toggleable__label-arrow\">DateTransformer</label><div class=\"sk-toggleable__content\"><pre>DateTransformer()</pre></div></div></div></div></div><div class=\"sk-item\"><div class=\"sk-estimator sk-toggleable\"><input class=\"sk-toggleable__control sk-hidden--visually\" id=\"sk-estimator-id-7\" type=\"checkbox\" ><label for=\"sk-estimator-id-7\" class=\"sk-toggleable__label sk-toggleable__label-arrow\">PartialStandardScaler</label><div class=\"sk-toggleable__content\"><pre>PartialStandardScaler(columns=[&#x27;piezo_station_altitude&#x27;, &#x27;meteo_altitude&#x27;,\n",
       "                               &#x27;date&#x27;, &#x27;meteo_rain_height&#x27;, &#x27;insee_%_agri&#x27;])</pre></div></div></div><div class=\"sk-item\"><div class=\"sk-estimator sk-toggleable\"><input class=\"sk-toggleable__control sk-hidden--visually\" id=\"sk-estimator-id-8\" type=\"checkbox\" ><label for=\"sk-estimator-id-8\" class=\"sk-toggleable__label sk-toggleable__label-arrow\">KNeighborsClassifier</label><div class=\"sk-toggleable__content\"><pre>KNeighborsClassifier(n_neighbors=25)</pre></div></div></div></div></div></div></div>"
      ],
      "text/plain": [
       "Pipeline(steps=[('processing',\n",
       "                 Pipeline(steps=[('DropNaRate', DropNaRate(rate=0.7)),\n",
       "                                 ('CleanFeatures',\n",
       "                                  CleanFeatures(cols=['insee_%_agri',\n",
       "                                                      'meteo_rain_height'])),\n",
       "                                 ('Altitude',\n",
       "                                  AltitudeTrans(columns=['piezo_station_altitude',\n",
       "                                                         'meteo_altitude'])),\n",
       "                                 ('Dates', DateTransformer())])),\n",
       "                ('StandardScaler',\n",
       "                 PartialStandardScaler(columns=['piezo_station_altitude',\n",
       "                                                'meteo_altitude', 'date',\n",
       "                                                'meteo_rain_height',\n",
       "                                                'insee_%_agri'])),\n",
       "                ('estimator', KNeighborsClassifier(n_neighbors=25))])"
      ]
     },
     "execution_count": 5,
     "metadata": {},
     "output_type": "execute_result"
    }
   ],
   "source": [
    "global_pipeline.fit(X_train, y_train)"
   ]
  },
  {
   "cell_type": "code",
   "execution_count": null,
   "metadata": {},
   "outputs": [
    {
     "name": "stdout",
     "output_type": "stream",
     "text": [
      ">> (Info) Missing values in insee_%_agri filled with median: 3.4\n",
      ">> (Info) Missing values in meteo_rain_height filled with median: 0.1\n",
      ">> (INFO - PartialStandardScaler) columns ['piezo_station_altitude', 'meteo_altitude', 'date', 'meteo_rain_height', 'insee_%_agri'] have bean standardized\n"
     ]
    }
   ],
   "source": [
    "y_val_pred = global_pipeline.predict(X_val)\n",
    "\n",
    "# Evaluate the model\n",
    "print(\"Accuracy:\", accuracy_score(y_val, y_val_pred))\n",
    "print(\"\\nClassification Report:\\n\", classification_report(y_val, y_val_pred))"
   ]
  },
  {
   "cell_type": "code",
   "execution_count": null,
   "metadata": {},
   "outputs": [
    {
     "name": "stdout",
     "output_type": "stream",
     "text": [
      "Accuracy: 0.4380582407642952\n",
      "\n",
      "Classification Report:\n",
      "               precision    recall  f1-score   support\n",
      "\n",
      "           0       0.48      0.51      0.50    107538\n",
      "           1       0.41      0.44      0.43    125818\n",
      "           2       0.41      0.43      0.42    129952\n",
      "           3       0.42      0.40      0.41    116354\n",
      "           4       0.48      0.41      0.44     86402\n",
      "\n",
      "    accuracy                           0.44    566064\n",
      "   macro avg       0.44      0.44      0.44    566064\n",
      "weighted avg       0.44      0.44      0.44    566064\n",
      "\n"
     ]
    }
   ],
   "source": [
    "# Evaluate the model\n",
    "print(\"Accuracy:\", accuracy_score(y_val, y_val_pred))\n",
    "print(\"\\nClassification Report:\\n\", classification_report(y_val, y_val_pred))"
   ]
  },
  {
   "cell_type": "markdown",
   "metadata": {},
   "source": [
    "### Save Pipeline"
   ]
  },
  {
   "cell_type": "code",
   "execution_count": null,
   "metadata": {},
   "outputs": [],
   "source": [
    "pipeline_name = \"1st_pipeline_13h00\"\n",
    "\n",
    "# Writing to sample.json\n",
    "with open(out_folder_config / Path(pipeline_name + \".pkl\"), \"wb\") as file:\n",
    "    pickle.dump(global_pipeline, file)"
   ]
  }
 ],
 "metadata": {
  "kernelspec": {
   "display_name": "cfm",
   "language": "python",
   "name": "python3"
  },
  "language_info": {
   "codemirror_mode": {
    "name": "ipython",
    "version": 3
   },
   "file_extension": ".py",
   "mimetype": "text/x-python",
   "name": "python",
   "nbconvert_exporter": "python",
   "pygments_lexer": "ipython3",
   "version": "3.9.18"
  }
 },
 "nbformat": 4,
 "nbformat_minor": 2
}
