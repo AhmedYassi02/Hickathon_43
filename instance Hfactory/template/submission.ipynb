{
 "cells": [
  {
   "cell_type": "code",
   "execution_count": 1,
   "metadata": {},
   "outputs": [],
   "source": [
    "import pickle\n",
    "import pandas as pd\n",
    "import numpy as np\n",
    "\n",
    "from pathlib import Path\n",
    "from sklearn.pipeline import Pipeline"
   ]
  },
  {
   "cell_type": "code",
   "execution_count": 19,
   "metadata": {},
   "outputs": [],
   "source": [
    "path_src_dataset = \"/home/jovyan/hfactory_magic_folders/water_shortage_prediction/X_test_Hi5.csv\"\n",
    "\n",
    "path_folder_config = \"./data/processed/pipelines\"\n",
    "pipeline_name = \"pip_yael_1h45\"\n",
    "\n",
    "path_submission = Path(\"./data/submissions\")\n",
    "path_submission.mkdir(parents=True, exist_ok=True)\n",
    "\n",
    "target = \"piezo_groundwater_level_category\""
   ]
  },
  {
   "cell_type": "code",
   "execution_count": 10,
   "metadata": {},
   "outputs": [],
   "source": [
    "col_yass = ['meteo_date'] + ['prelev_volume_0', 'prelev_volume_1',\n",
    "                             'prelev_volume_2', 'prelev_other_volume_sum', 'piezo_station_commune_name']\n",
    "# Altitude\n",
    "altitude_flo = [\"piezo_station_altitude\", \"meteo_altitude\"]  # ORDRE 1\n",
    "prelev_flo = [\"prelev_volume_0\", \"prelev_usage_label_0\", \"prelev_volume_obtention_mode_label_0\", \"prelev_volume_1\", \"prelev_usage_label_1\",\n",
    "              \"prelev_volume_obtention_mode_label_1\", \"prelev_volume_2\", \"prelev_usage_label_2\", \"prelev_volume_obtention_mode_label_2\"]\n",
    "col_flo = altitude_flo + prelev_flo\n",
    "# Insee & rain \"CleanFeatures\"\n",
    "cols_yael_input = ['insee_%_agri', 'meteo_rain_height', 'insee_pop_commune',\n",
    "                   'insee_med_living_level', 'insee_%_ind', 'insee_%_const']\n",
    "cols_yael_need = [\"piezo_station_department_code\", \"meteo_date\"]\n",
    "\n",
    "# Temperature\n",
    "cols_lucien_need = ['piezo_station_department_code', 'piezo_measurement_date']\n",
    "cols_lucien_input = ['meteo_temperature_avg', 'meteo_temperature_min',\n",
    "                     'meteo__pressure_saturation_avg', 'meteo_temperature_max']\n",
    "# Lat Long\n",
    "cols_mat = [\"distance_piezo_meteo\", 'piezo_station_longitude', 'piezo_station_latitude', 'meteo_latitude', 'meteo_longitude', \"meteo_temperature_avg\", \"meteo_temperature_avg_threshold\",\n",
    "            \"meteo_temperature_min\", \"meteo_temperature_max\", \"meteo_temperature_min_ground\", \"hydro_observation_result_elab\", \"hydro_status_code\", \"hydro_qualification_code\", \"hydro_hydro_quantity_elab\"]\n",
    "\n",
    "\n",
    "# Clean pizo\n",
    "pizo_cols = ['piezo_station_investigation_depth', 'piezo_obtention_mode', 'piezo_status',\n",
    "             'piezo_qualification', 'piezo_measure_nature_code', 'piezo_station_department_code']\n",
    "\n",
    "# target\n",
    "target = \"piezo_groundwater_level_category\"\n",
    "\n",
    "\n",
    "columns_to_keep = col_yass + cols_yael_input + cols_yael_need + col_flo + \\\n",
    "    cols_lucien_need + cols_lucien_input + cols_mat + pizo_cols + [\"row_index\"]"
   ]
  },
  {
   "cell_type": "code",
   "execution_count": 11,
   "metadata": {},
   "outputs": [
    {
     "name": "stderr",
     "output_type": "stream",
     "text": [
      "/tmp/ipykernel_16015/9862667.py:2: DtypeWarning: Columns (1,110,111,117,118,124,125) have mixed types. Specify dtype option on import or set low_memory=False.\n",
      "  df = pd.read_csv(path_src_dataset, usecols=columns_to_keep, dtype={\"row_index\": int})\n"
     ]
    }
   ],
   "source": [
    "df = pd.read_csv(path_src_dataset, usecols=columns_to_keep, dtype={\"row_index\": int})"
   ]
  },
  {
   "cell_type": "code",
   "execution_count": 12,
   "metadata": {},
   "outputs": [],
   "source": [
    "with open(path_folder_config / Path(pipeline_name + \".pkl\"), 'rb') as file:\n",
    "    pipeline: Pipeline = pickle.load(file)"
   ]
  },
  {
   "cell_type": "code",
   "execution_count": 14,
   "metadata": {},
   "outputs": [
    {
     "name": "stdout",
     "output_type": "stream",
     "text": [
      ">> (Info - Prelev) 'prelev_usage_label_0' has been one-hot-encoded in 4 features\n",
      ">> (Info - Prelev) 'prelev_volume_obtention_mode_label_0' has been one-hot-encoded in 4 features\n",
      ">> (Info - Prelev) 'prelev_usage_label_1' has been one-hot-encoded in 4 features\n",
      ">> (Info - Prelev) 'prelev_volume_obtention_mode_label_1' has been one-hot-encoded in 4 features\n",
      ">> (Info - Prelev) 'prelev_usage_label_2' has been one-hot-encoded in 4 features\n",
      ">> (Info - Prelev) 'prelev_volume_obtention_mode_label_2' has been one-hot-encoded in 4 features\n",
      ">> (Info) Filling missing values with calculated medians and means.\n",
      ">> (Info) Transforming data: Filling missing values and applying one-hot encoding.\n",
      ">> (Info) Missing values in piezo_station_investigation_depth filled with department means or global mean as fallback.\n",
      ">> (Info) One-hot encoding applied to piezo_obtention_mode with missing values filled.\n",
      ">> (Info) One-hot encoding applied to piezo_status with missing values filled.\n",
      ">> (Info) One-hot encoding applied to piezo_qualification with missing values filled.\n",
      ">> (Info) One-hot encoding applied to piezo_measure_nature_code with missing values filled.\n",
      ">> (Info) Data transformation completed.\n",
      ">> (INFO - DropCols) columns ['piezo_station_department_name', 'piezo_station_update_date', 'piezo_station_commune_code_insee', 'piezo_station_pe_label', 'piezo_station_bdlisa_codes', 'piezo_station_bss_code', 'piezo_station_bss_id', 'piezo_bss_code', 'piezo_measurement_date', 'piezo_producer_name', 'piezo_measure_nature_code', 'meteo_name', 'meteo_id', 'meteo_latitude', 'meteo_longitude', 'hydro_station_code', 'hydro_method_code', 'hydro_method_label', 'hydro_qualification_label', 'prelev_structure_code_0', 'prelev_structure_code_2', 'prelev_structure_code_0', 'prelev_commune_code_insee_0', 'piezo_station_department_code', 'meteo_DRR', 'meteo_temperature_min_ground', 'meteo_temperature_min_50cm', 'meteo_pressure_avg', 'meteo_pression_maxi', 'meteo_wind_speed_avg_2m', 'meteo_wind_max_2m', 'meteo_wind_direction_max_inst_2m', 'meteo_time_wind_max_2m', 'meteo_wetting_duration', 'meteo_sunshine_duration', 'meteo_radiation', 'meteo_radiation_direct', 'meteo_sunshine_%', 'meteo_radiation_IR', 'meteo_radiation_UV_max', 'meteo_cloudiness', 'meteo_cloudiness_height', 'meteo_if_snow', 'meteo_if_fog', 'meteo_if_thunderstorm', 'meteo_if_sleet', 'meteo_if_hail', 'meteo_if_dew', 'meteo_if_black_ice', 'meteo_if_snow_ground', 'meteo_if_frost', 'meteo_if_smoke', 'meteo_if_mist', 'meteo_if_lightning', 'meteo_evapotranspiration_Monteith', 'meteo_radiation_UV', 'meteo_snow_height', 'meteo_snow_thickness_max', 'meteo_snow_thickness_6h'] is/are droped.\n",
      ">> (INFO - PartialStandardScaler) columns ['piezo_station_investigation_depth', 'piezo_station_altitude', 'piezo_station_longitude', 'piezo_station_latitude', 'meteo_date', 'meteo_rain_height', 'meteo_temperature_avg', 'meteo__pressure_saturation_avg', 'hydro_observation_result_elab', 'hydro_status_code', 'hydro_qualification_code', 'prelev_volume_0', 'prelev_other_volume_sum', 'insee_%_agri', 'insee_pop_commune', 'insee_med_living_level', 'insee_%_ind', 'insee_%_const', 'hydro_observation_log', 'hydro_hydro_quantity_elab_infrequent_sklearn', \"piezo_obtention_mode_Mode d'obtention inconnu\", 'piezo_obtention_mode_Valeur mesurée', 'piezo_obtention_mode_Valeur reconstituée', 'piezo_status_Donnée brute', 'piezo_status_Donnée contrôlée niveau 1', 'piezo_status_Donnée contrôlée niveau 2', 'piezo_status_Donnée interprétée', 'piezo_qualification_Correcte', 'piezo_qualification_Incertaine', 'piezo_qualification_Incorrecte', 'piezo_qualification_Non qualifié', 'piezo_measure_nature_code_0', 'piezo_measure_nature_code_D', 'piezo_measure_nature_code_I', 'piezo_measure_nature_code_N', 'piezo_measure_nature_code_S'] have bean standardized\n"
     ]
    }
   ],
   "source": [
    "df_test_pred = pipeline.predict(df.drop(columns=\"row_index\"))"
   ]
  },
  {
   "cell_type": "code",
   "execution_count": 15,
   "metadata": {},
   "outputs": [],
   "source": [
    "df_test_pred = pd.concat([df[\"row_index\"], pd.DataFrame(df_test_pred, columns=[target])], axis=1)\n",
    "\n",
    "mapping = {0: 'Very Low', 1: 'Low', 2: 'Average', 3: 'High', 4: 'Very High'}\n",
    "df_test_pred[target] = df_test_pred[target].map(mapping)"
   ]
  },
  {
   "cell_type": "code",
   "execution_count": 16,
   "metadata": {},
   "outputs": [
    {
     "data": {
      "text/plain": [
       "(611208, 2)"
      ]
     },
     "execution_count": 16,
     "metadata": {},
     "output_type": "execute_result"
    }
   ],
   "source": [
    "df_test_pred.shape"
   ]
  },
  {
   "cell_type": "code",
   "execution_count": 20,
   "metadata": {},
   "outputs": [],
   "source": [
    "df_test_pred.to_csv(Path(path_submission) / Path(pipeline_name + \"_group43_yael\" + \".csv\"), index=False)"
   ]
  }
 ],
 "metadata": {
  "kernelspec": {
   "display_name": "base",
   "language": "python",
   "name": "python3"
  },
  "language_info": {
   "codemirror_mode": {
    "name": "ipython",
    "version": 3
   },
   "file_extension": ".py",
   "mimetype": "text/x-python",
   "name": "python",
   "nbconvert_exporter": "python",
   "pygments_lexer": "ipython3",
   "version": "3.10.13"
  }
 },
 "nbformat": 4,
 "nbformat_minor": 2
}
