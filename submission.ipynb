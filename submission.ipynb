{
 "cells": [
  {
   "cell_type": "code",
   "execution_count": 26,
   "metadata": {},
   "outputs": [],
   "source": [
    "import pickle\n",
    "import pandas as pd\n",
    "import numpy as np\n",
    "\n",
    "from pathlib import Path\n",
    "from sklearn.pipeline import Pipeline"
   ]
  },
  {
   "cell_type": "code",
   "execution_count": 13,
   "metadata": {},
   "outputs": [],
   "source": [
    "path_src_dataset = \"./data/src/X_test_Hi5.csv\"\n",
    "\n",
    "path_folder_config = \"./data/processed/pipelines\"\n",
    "pipeline_name = \"1st_pipeline_12h26\"\n",
    "\n",
    "path_submission = \"./data/submissions\"\n",
    "\n",
    "target = \"piezo_groundwater_level_category\""
   ]
  },
  {
   "cell_type": "code",
   "execution_count": 14,
   "metadata": {},
   "outputs": [],
   "source": [
    "columns_to_keep = [\"row_index\", \"insee_%_agri\",\"meteo_rain_height\",\"piezo_station_altitude\", \"meteo_altitude\",\"meteo_date\"]\n",
    "# Step 3: Load the CSV file with only the relevant columns\n",
    "df = pd.read_csv(path_src_dataset, usecols=columns_to_keep, dtype={\"row_index\": int})"
   ]
  },
  {
   "cell_type": "code",
   "execution_count": 15,
   "metadata": {},
   "outputs": [],
   "source": [
    "with open(path_folder_config / Path(pipeline_name + \".pkl\"), 'rb') as file:\n",
    "    pipeline: Pipeline = pickle.load(file)"
   ]
  },
  {
   "cell_type": "markdown",
   "metadata": {},
   "source": [
    "Make prediction"
   ]
  },
  {
   "cell_type": "code",
   "execution_count": 16,
   "metadata": {},
   "outputs": [
    {
     "name": "stdout",
     "output_type": "stream",
     "text": [
      ">> (Info) Missing values in insee_%_agri filled with median: 3.4\n",
      ">> (Info) Missing values in meteo_rain_height filled with median: 0.1\n",
      ">> (INFO - PartialStandardScaler) columns ['piezo_station_altitude', 'meteo_altitude', 'date', 'meteo_rain_height', 'insee_%_agri'] have bean standardized\n"
     ]
    }
   ],
   "source": [
    "df_test_pred = pipeline.predict(df.drop(columns=\"row_index\"))"
   ]
  },
  {
   "cell_type": "code",
   "execution_count": null,
   "metadata": {},
   "outputs": [],
   "source": [
    "df_test_pred = pd.concat([df[\"row_index\"], pd.DataFrame(df_test_pred, columns=[target])], axis=1)\n",
    "\n",
    "mapping = {0: 'Very Low', 1: 'Low', 2: 'Average', 3: 'High', 4: 'Very High'}\n",
    "df_test_pred[target] = df_test_pred[target].map(mapping)"
   ]
  },
  {
   "cell_type": "code",
   "execution_count": null,
   "metadata": {},
   "outputs": [
    {
     "data": {
      "text/plain": [
       "(611208, 2)"
      ]
     },
     "execution_count": 21,
     "metadata": {},
     "output_type": "execute_result"
    }
   ],
   "source": [
    "df_test_pred.shape"
   ]
  },
  {
   "cell_type": "code",
   "execution_count": null,
   "metadata": {},
   "outputs": [],
   "source": [
    "df_test_pred.to_csv(Path(path_submission) / Path(pipeline_name + \"_group43\" + \".csv\"), index=False)"
   ]
  },
  {
   "cell_type": "markdown",
   "metadata": {},
   "source": [
    "# Additional"
   ]
  },
  {
   "cell_type": "markdown",
   "metadata": {},
   "source": [
    "### Random prediction"
   ]
  },
  {
   "cell_type": "code",
   "execution_count": 30,
   "metadata": {},
   "outputs": [],
   "source": [
    "np_test_random = np.random.choice(['Very Low', 'Low', 'Average', 'High', 'Very High'], size=len(df))"
   ]
  },
  {
   "cell_type": "code",
   "execution_count": 31,
   "metadata": {},
   "outputs": [],
   "source": [
    "df_test_random = pd.concat([df[\"row_index\"], pd.DataFrame(np_test_random, columns=[target])], axis=1)"
   ]
  },
  {
   "cell_type": "code",
   "execution_count": 33,
   "metadata": {},
   "outputs": [],
   "source": [
    "df_test_random.to_csv(Path(path_submission) / Path(\"RANDOM\" + \"_group43\" + \".csv\"), index=False)"
   ]
  }
 ],
 "metadata": {
  "kernelspec": {
   "display_name": "base",
   "language": "python",
   "name": "python3"
  },
  "language_info": {
   "codemirror_mode": {
    "name": "ipython",
    "version": 3
   },
   "file_extension": ".py",
   "mimetype": "text/x-python",
   "name": "python",
   "nbconvert_exporter": "python",
   "pygments_lexer": "ipython3",
   "version": "3.10.9"
  }
 },
 "nbformat": 4,
 "nbformat_minor": 2
}
